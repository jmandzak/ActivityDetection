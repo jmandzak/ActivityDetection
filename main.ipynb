{
 "cells": [
  {
   "cell_type": "markdown",
   "metadata": {},
   "source": [
    "Project 3 - Activity Classification\n",
    "Josh Mandzak, Tanner Thornton, Coby White"
   ]
  },
  {
   "cell_type": "markdown",
   "metadata": {},
   "source": [
    "First up, grab and collect all the data"
   ]
  },
  {
   "cell_type": "code",
   "execution_count": 36,
   "metadata": {},
   "outputs": [],
   "source": [
    "import pandas as pd\n",
    "import os\n",
    "\n",
    "directories = ['Downstairs', 'Upstairs', 'Walking data', 'Squats']\n",
    "dataframes = [\n",
    "    [],\n",
    "    [],\n",
    "    [],\n",
    "    []\n",
    "]\n",
    "cwd = os.getcwd()\n",
    "cols_to_drop = ['LINEAR ACCELERATION X (m/s²)', 'LINEAR ACCELERATION Y (m/s²)', 'LINEAR ACCELERATION Z (m/s²)', 'LIGHT (lux)']\n",
    " \n",
    "for i in range(3):\n",
    "    path = cwd + '/' + directories[i]\n",
    "    for filename in os.listdir(path):\n",
    "        df = pd.read_csv(path + '/' + filename, sep=';')\n",
    "        df.drop(columns=df.columns[16:], axis=1,  inplace=True)\n",
    "        df.drop(columns=cols_to_drop, inplace=True)\n",
    "        dataframes[i].append(df)\n"
   ]
  },
  {
   "cell_type": "code",
   "execution_count": 58,
   "metadata": {},
   "outputs": [],
   "source": [
    "# Now read the files from the other app\n",
    "for i in range(3, 4):\n",
    "    path = cwd + '/' + directories[i] + '/'\n",
    "    temp_dfs = []\n",
    "    for filename in os.listdir(path):\n",
    "        df = pd.read_csv(path + filename)\n",
    "        df.drop(columns=['seconds_elapsed'], inplace=True)\n",
    "        df = df.iloc[::50, :]\n",
    "        temp_dfs.append(df)\n",
    "\n",
    "    main_df = temp_dfs[0]\n",
    "    for i in range(1, len(temp_dfs)):\n",
    "        main_df = pd.merge(main_df, temp_dfs[i], on='time')\n",
    "    print(main_df.columns)\n",
    "    main_df.drop(columns=['time'], inplace=True)\n",
    "    dataframes[i].append(main_df)"
   ]
  },
  {
   "cell_type": "code",
   "execution_count": 59,
   "metadata": {},
   "outputs": [
    {
     "name": "stdout",
     "output_type": "stream",
     "text": [
      "Index(['time', 'ACCELEROMETER Z (m/s²)', 'ACCELEROMETER Y (m/s²)',\n",
      "       'ACCELEROMETER X (m/s²)', 'MAGNETIC FIELD Z (μT)',\n",
      "       'MAGNETIC FIELD Y (μT)', 'MAGNETIC FIELD X (μT)', 'GYROSCOPE Z (rad/s)',\n",
      "       'GYROSCOPE Y (rad/s)', 'GYROSCOPE X (rad/s)', 'GRAVITY Z (m/s²)',\n",
      "       'GRAVITY Y (m/s²)', 'GRAVITY X (m/s²)'],\n",
      "      dtype='object')\n",
      "Index(['ACCELEROMETER X (m/s²)', 'ACCELEROMETER Y (m/s²)',\n",
      "       'ACCELEROMETER Z (m/s²)', 'GRAVITY X (m/s²)', 'GRAVITY Y (m/s²)',\n",
      "       'GRAVITY Z (m/s²)', 'GYROSCOPE X (rad/s)', 'GYROSCOPE Y (rad/s)',\n",
      "       'GYROSCOPE Z (rad/s)', 'MAGNETIC FIELD X (μT)', 'MAGNETIC FIELD Y (μT)',\n",
      "       'MAGNETIC FIELD Z (μT)'],\n",
      "      dtype='object')\n"
     ]
    }
   ],
   "source": [
    "print(dataframes[3][0].columns)\n",
    "print(dataframes[1][0].columns)"
   ]
  }
 ],
 "metadata": {
  "kernelspec": {
   "display_name": "Python 3.8.10 64-bit",
   "language": "python",
   "name": "python3"
  },
  "language_info": {
   "codemirror_mode": {
    "name": "ipython",
    "version": 3
   },
   "file_extension": ".py",
   "mimetype": "text/x-python",
   "name": "python",
   "nbconvert_exporter": "python",
   "pygments_lexer": "ipython3",
   "version": "3.8.10"
  },
  "orig_nbformat": 4,
  "vscode": {
   "interpreter": {
    "hash": "916dbcbb3f70747c44a77c7bcd40155683ae19c65e1c03b4aa3499c5328201f1"
   }
  }
 },
 "nbformat": 4,
 "nbformat_minor": 2
}
