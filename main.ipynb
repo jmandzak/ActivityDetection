{
 "cells": [
  {
   "cell_type": "markdown",
   "metadata": {},
   "source": [
    "Project 3 - Activity Classification\n",
    "Josh Mandzak, Tanner Thornton, Coby White"
   ]
  },
  {
   "cell_type": "markdown",
   "metadata": {},
   "source": [
    "First up, grab and collect all the data"
   ]
  },
  {
   "cell_type": "code",
   "execution_count": 149,
   "metadata": {},
   "outputs": [],
   "source": [
    "import pandas as pd\n",
    "import os\n",
    "\n",
    "directories = ['Downstairs', 'Upstairs', 'Walking data', 'Squats', 'Standing']\n",
    "dataframes = [\n",
    "    [],\n",
    "    [],\n",
    "    [],\n",
    "    [],\n",
    "    []\n",
    "]\n",
    "cwd = os.getcwd()\n",
    "cols_to_drop = ['LINEAR ACCELERATION X (m/s²)', 'LINEAR ACCELERATION Y (m/s²)', 'LINEAR ACCELERATION Z (m/s²)', 'LIGHT (lux)']\n",
    " \n",
    "for i in range(3):\n",
    "    path = cwd + '/' + directories[i]\n",
    "    for filename in os.listdir(path):\n",
    "        df = pd.read_csv(path + '/' + filename, sep=';')\n",
    "        df.drop(columns=df.columns[16:], axis=1,  inplace=True)\n",
    "        df.drop(columns=cols_to_drop, inplace=True)\n",
    "        dataframes[i].append(df)\n"
   ]
  },
  {
   "cell_type": "code",
   "execution_count": 150,
   "metadata": {},
   "outputs": [],
   "source": [
    "# Now read the files from the other app\n",
    "for i in range(3, 5):\n",
    "    path = cwd + '/' + directories[i] + '/'\n",
    "    temp_dfs = []\n",
    "    for filename in os.listdir(path):\n",
    "        df = pd.read_csv(path + filename)\n",
    "        df.drop(columns=['seconds_elapsed'], inplace=True)\n",
    "        df = df.iloc[::50, :]\n",
    "        temp_dfs.append(df)\n",
    "\n",
    "    main_df = temp_dfs[0]\n",
    "    for j in range(1, len(temp_dfs)):\n",
    "        main_df = pd.merge(main_df, temp_dfs[j], on='time')\n",
    "    main_df.drop(columns=['time'], inplace=True)\n",
    "    dataframes[i].append(main_df)"
   ]
  },
  {
   "cell_type": "code",
   "execution_count": 152,
   "metadata": {},
   "outputs": [
    {
     "name": "stdout",
     "output_type": "stream",
     "text": [
      "5\n",
      "4\n"
     ]
    }
   ],
   "source": [
    "print(len(dataframes))\n",
    "print(len(dataframes[4][0]))"
   ]
  },
  {
   "cell_type": "markdown",
   "metadata": {},
   "source": [
    "### Create Function to Split Dataframes into Samples samples_per_split/2 seconds long"
   ]
  },
  {
   "cell_type": "code",
   "execution_count": 144,
   "metadata": {},
   "outputs": [],
   "source": [
    "def splitSamples(dataframes: list, samples_per_split: int) -> list:\n",
    "    all_samples = []\n",
    "    for df in dataframes:\n",
    "        start_index = 0\n",
    "        end_index = samples_per_split\n",
    "        while end_index < len(df):\n",
    "            temp_df = df[start_index:end_index]\n",
    "            all_samples.append(temp_df)\n",
    "            start_index += samples_per_split // 2\n",
    "            end_index += samples_per_split // 2\n",
    "    \n",
    "    return all_samples"
   ]
  },
  {
   "cell_type": "code",
   "execution_count": 145,
   "metadata": {},
   "outputs": [],
   "source": [
    "# Call the function with each dataframe to get sample lists\n",
    "SAMPLES_PER_SPLIT = 8\n",
    "downstairs_dfs = splitSamples(dataframes[0], SAMPLES_PER_SPLIT)\n",
    "upstairs_dfs = splitSamples(dataframes[1], SAMPLES_PER_SPLIT)\n",
    "walk_dfs = splitSamples(dataframes[2], SAMPLES_PER_SPLIT)\n",
    "squat_dfs = splitSamples(dataframes[3], SAMPLES_PER_SPLIT)\n",
    "standing_dfs = splitSamples(dataframes[4], SAMPLES_PER_SPLIT)\n"
   ]
  },
  {
   "cell_type": "code",
   "execution_count": 146,
   "metadata": {},
   "outputs": [
    {
     "name": "stdout",
     "output_type": "stream",
     "text": [
      "593\n",
      "616\n",
      "7138\n",
      "53\n",
      "0\n",
      "Index(['ACCELEROMETER Z (m/s²)', 'ACCELEROMETER Y (m/s²)',\n",
      "       'ACCELEROMETER X (m/s²)', 'MAGNETIC FIELD Z (μT)',\n",
      "       'MAGNETIC FIELD Y (μT)', 'MAGNETIC FIELD X (μT)', 'GYROSCOPE Z (rad/s)',\n",
      "       'GYROSCOPE Y (rad/s)', 'GYROSCOPE X (rad/s)', 'GRAVITY Z (m/s²)',\n",
      "       'GRAVITY Y (m/s²)', 'GRAVITY X (m/s²)'],\n",
      "      dtype='object')\n"
     ]
    }
   ],
   "source": [
    "print(len(downstairs_dfs))\n",
    "print(len(upstairs_dfs))\n",
    "print(len(walk_dfs))\n",
    "print(len(squat_dfs))\n",
    "print(len(standing_dfs))\n",
    "print(squat_dfs[0].columns)"
   ]
  },
  {
   "cell_type": "markdown",
   "metadata": {},
   "source": [
    "### Get the dataframes into something readable"
   ]
  },
  {
   "cell_type": "code",
   "execution_count": 125,
   "metadata": {},
   "outputs": [],
   "source": [
    "# function to create list of lists from list of dataframes\n",
    "def createX(dataframes: list, columns_to_use: list) -> list:\n",
    "    X = []\n",
    "    for df in dataframes:\n",
    "        sample = []\n",
    "        for column in columns_to_use:\n",
    "            sample.append(df[column].tolist())\n",
    "            \n",
    "            # EXPERIMENTAL FEATURE COLLECTION\n",
    "            # additional_features = []\n",
    "            # measurement = df[column].tolist()\n",
    "            # additional_features.append(np.mean(measurement))\n",
    "            # additional_features.append(np.std(measurement))\n",
    "            # sample.append(additional_features)\n",
    "\n",
    "        flat_sample = [item for sublist in sample for item in sublist]\n",
    "        X.append(flat_sample.copy())\n",
    "    \n",
    "    return X"
   ]
  },
  {
   "cell_type": "code",
   "execution_count": 126,
   "metadata": {},
   "outputs": [],
   "source": [
    "# COLUMNS WE ARE USING\n",
    "used_columns = ['ACCELEROMETER Z (m/s²)', 'ACCELEROMETER Y (m/s²)',\n",
    "       'ACCELEROMETER X (m/s²)', 'MAGNETIC FIELD Z (μT)',\n",
    "       'MAGNETIC FIELD Y (μT)', 'MAGNETIC FIELD X (μT)', 'GYROSCOPE Z (rad/s)',\n",
    "       'GYROSCOPE Y (rad/s)', 'GYROSCOPE X (rad/s)', 'GRAVITY Z (m/s²)',\n",
    "       'GRAVITY Y (m/s²)', 'GRAVITY X (m/s²)']\n",
    "       \n",
    "# create list of lists for each activity\n",
    "downstairs_samples = createX(downstairs_dfs, used_columns)\n",
    "upstairs_samples = createX(upstairs_dfs, used_columns)\n",
    "walk_samples = createX(walk_dfs, used_columns)\n",
    "squat_samples = createX(squat_dfs, used_columns)\n",
    "standing_samples = createX(standing_dfs, used_columns)"
   ]
  },
  {
   "cell_type": "code",
   "execution_count": 127,
   "metadata": {},
   "outputs": [
    {
     "name": "stdout",
     "output_type": "stream",
     "text": [
      "593\n",
      "616\n",
      "7138\n",
      "53\n"
     ]
    }
   ],
   "source": [
    "print(len(downstairs_samples))\n",
    "print(len(upstairs_samples))\n",
    "print(len(walk_samples))\n",
    "print(len(squat_samples))\n",
    "print(len(standing_samples))"
   ]
  },
  {
   "cell_type": "code",
   "execution_count": 128,
   "metadata": {},
   "outputs": [],
   "source": [
    "# DOWNSAMPLING WALKING, PLAY WITH REMOVING OR ADDING IT\n",
    "walk_samples = walk_samples[:600]\n",
    "# walk_samples = walk_samples[:300]"
   ]
  },
  {
   "cell_type": "markdown",
   "metadata": {},
   "source": [
    "### Some more preprocessing and creation of y"
   ]
  },
  {
   "cell_type": "code",
   "execution_count": 129,
   "metadata": {},
   "outputs": [],
   "source": [
    "# Create y\n",
    "y = []\n",
    "\n",
    "for i in range(len(downstairs_samples)):\n",
    "    y.append(0)\n",
    "for i in range(len(upstairs_samples)):\n",
    "    y.append(1)\n",
    "for i in range(len(walk_samples)):\n",
    "    y.append(2)\n",
    "for i in range(len(squat_samples)):\n",
    "    y.append(3)\n",
    "for i in range(len(standing_samples)):\n",
    "    y.append(4)\n",
    "\n",
    "# Create full X list\n",
    "X = downstairs_samples + upstairs_samples + walk_samples + squat_samples + standing_samples\n",
    "\n",
    "# # split into training and test data\n",
    "# from sklearn.model_selection import train_test_split\n",
    "# X_train, X_test, y_train, y_test = train_test_split(X, y, test_size=0.2, random_state=42, stratify=y)\n",
    "\n",
    "# # Scale X\n",
    "# from sklearn.preprocessing import StandardScaler\n",
    "# sc = StandardScaler()\n",
    "# X_train = sc.fit_transform(X_train)\n",
    "# X_test = sc.transform(X_test)\n",
    "\n",
    "\n",
    "from sklearn.preprocessing import StandardScaler\n",
    "sc = StandardScaler()\n",
    "X = sc.fit_transform(X)"
   ]
  },
  {
   "cell_type": "markdown",
   "metadata": {},
   "source": [
    "### Plug it into a model and see how it does"
   ]
  },
  {
   "cell_type": "code",
   "execution_count": 130,
   "metadata": {},
   "outputs": [],
   "source": [
    "# Train and evaluate the model\n",
    "from sklearn.model_selection import StratifiedKFold\n",
    "from sklearn.model_selection import cross_val_score, cross_val_predict\n",
    "from sklearn.metrics import confusion_matrix\n",
    "import matplotlib.pyplot as plt\n",
    "import numpy as np\n",
    "\n",
    "def train_and_evaluate_model(X, y, model):\n",
    "    # Do the K-fold cross validation\n",
    "    cv = StratifiedKFold(n_splits=10)\n",
    "    scores = cross_val_score(model, X, y, cv=cv, scoring='accuracy')\n",
    "    # print(f'Average accuracy of all folds: {round(np.mean(scores) * 100, 2)}%')\n",
    "\n",
    "    # This function sets an empty array of size len(y)\n",
    "    # It then does the predictions for each fold (retraining the model each time)\n",
    "    # and fills in the prediction in the correct spot in the array. By the end of it,\n",
    "    # you will have your y array and a new array (predictions) of guesses for each sample\n",
    "    # this is because Kfold uses each sample once for test data.\n",
    "    predictions = cross_val_predict(model, X, y, cv=cv)\n",
    "\n",
    "    # we can use this to create a confusion matrix\n",
    "    new_labels = ['Downstairs', 'Upstairs', 'Walking', 'Squat', 'Standing']\n",
    "    old_labels = [0, 1, 2, 3, 4]\n",
    "    cm = confusion_matrix(y, predictions)\n",
    "    plt.matshow(cm, cmap=plt.cm.Blues)\n",
    "    for i in range(cm.shape[0]):\n",
    "        for j in range(cm.shape[1]):\n",
    "            plt.text(x=j, y=i,s=cm[i, j], va='center', ha='center', size='xx-large')\n",
    "    plt.xticks(ticks=old_labels, labels=new_labels)\n",
    "    plt.yticks(ticks=old_labels, labels=new_labels)\n",
    "    plt.xlabel('Predicted Labels')\n",
    "    plt.ylabel('True Label')\n",
    "    \n",
    "    print(f'All accuracy scores from 10 folds:')\n",
    "    for score in scores:\n",
    "        print(f'{round(score * 100, 2)}%', end=' ')\n",
    "    print()\n",
    "    print(f'Mean Accuracy from 10 Fold Cross-Validation: {round(np.mean(scores)*100, 2)}%\\n')"
   ]
  },
  {
   "cell_type": "code",
   "execution_count": 132,
   "metadata": {},
   "outputs": [
    {
     "name": "stdout",
     "output_type": "stream",
     "text": [
      "All accuracy scores from 10 folds:\n",
      "70.05% 81.82% 86.02% 84.41% 79.57% 83.87% 95.7% 72.58% 68.82% 68.28% \n",
      "Mean Accuracy from 10 Fold Cross-Validation: 79.11%\n",
      "\n"
     ]
    },
    {
     "data": {
      "image/png": "[encoded data removed]",
      "text/plain": [
       "<Figure size 480x480 with 1 Axes>"
      ]
     },
     "metadata": {},
     "output_type": "display_data"
    }
   ],
   "source": [
    "from sklearn.ensemble import RandomForestClassifier\n",
    "from xgboost import XGBClassifier\n",
    "\n",
    "#model = RandomForestClassifier(n_estimators=100, random_state=42)\n",
    "model = XGBClassifier()\n",
    "train_and_evaluate_model(X, y, model)"
   ]
  }
 ],
 "metadata": {
  "kernelspec": {
   "display_name": "Python 3.8.10 64-bit",
   "language": "python",
   "name": "python3"
  },
  "language_info": {
   "codemirror_mode": {
    "name": "ipython",
    "version": 3
   },
   "file_extension": ".py",
   "mimetype": "text/x-python",
   "name": "python",
   "nbconvert_exporter": "python",
   "pygments_lexer": "ipython3",
   "version": "3.8.10"
  },
  "orig_nbformat": 4,
  "vscode": {
   "interpreter": {
    "hash": "916dbcbb3f70747c44a77c7bcd40155683ae19c65e1c03b4aa3499c5328201f1"
   }
  }
 },
 "nbformat": 4,
 "nbformat_minor": 2
}
